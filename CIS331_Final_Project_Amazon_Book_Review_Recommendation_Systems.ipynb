{
  "cells": [
    {
      "cell_type": "markdown",
      "metadata": {
        "id": "moG--g9NbLR9"
      },
      "source": [
        "# Recommendation Systems for Amazon Books (total 100pts + 10pts bonus)\n"
      ]
    },
    {
      "cell_type": "code",
      "execution_count": null,
      "metadata": {
        "colab": {
          "base_uri": "https://localhost:8080/"
        },
        "id": "i6O65LYsd_Ge",
        "outputId": "7168eeeb-46ec-4801-da05-72b4f5674553"
      },
      "outputs": [
        {
          "name": "stdout",
          "output_type": "stream",
          "text": [
            "\u001b[K     |████████████████████████████████| 11.8MB 7.9MB/s \n",
            "\u001b[?25h  Building wheel for scikit-surprise (setup.py) ... \u001b[?25l\u001b[?25hdone\n"
          ]
        }
      ],
      "source": [
        "!pip install -q scikit-surprise"
      ]
    },
    {
      "cell_type": "code",
      "execution_count": null,
      "metadata": {
        "id": "geDreq0JD6m2"
      },
      "outputs": [],
      "source": [
        "import pandas as pd\n",
        "import numpy as np\n",
        "import random\n",
        "import csv"
      ]
    },
    {
      "cell_type": "markdown",
      "metadata": {
        "id": "cr-5z7EytThZ"
      },
      "source": [
        "## ***Overview:***\n",
        "\n",
        "\n",
        "In this project, you will build  recommemder systems using different approaches.\n",
        "\n",
        "We will be using the Amazon Review data:\n",
        "https://nijianmo.github.io/amazon/index.html\n",
        "\n",
        "Note this is a fairly large dataset. We will use the Book review from `\"Small\" subsets for experimentation` and use `ratings only(51,311,621 ratings)` dataset, which is listed at the last section of the document. However you are required to read through the entire document before proceeding."
      ]
    },
    {
      "cell_type": "markdown",
      "metadata": {
        "id": "Xyx8UM2Hv_kV"
      },
      "source": [
        "## Task one: Data ingest (10pts)"
      ]
    },
    {
      "cell_type": "markdown",
      "metadata": {
        "id": "NJ-ypmektj7-"
      },
      "source": [
        "Please download the dataset first. If you expect you are going to work on this dataset for a period of several days (which is expected), you can mount on your google drive by clicking the folder icon then Google drive icon (the third one on top after clicking the folder icon) from left menu of colab, your drive will be mounted as \"/content/drive/MyDrive\". Now you can use linux copy command (reference cheatsheet or search for it) to copy the file to your drive. Next time you can just copy it back when you start a new colab session. This dataset contains book reviews from Amazon, with below columns:\n",
        "\n",
        "*  User ID\n",
        "*  Book ID\n",
        "*  Rating (1 to 5)\n",
        "*  Date they gave the ratings(unix timestamp, google for how to convert to datetime object. For validation, 1123804800 should be converted to 2005-08-12 00:00:00)\n",
        "\n",
        "Because of the large data size, you want to create a small dataset using first 10,000 lines (reference the spark/docker tutorial and project guide for doing this), and play with this file until your code runs ok, then you switch to the full size dataset. Let's assume the small dataset is `books10m.csv`\n"
      ]
    },
    {
      "cell_type": "code",
      "execution_count": null,
      "metadata": {
        "colab": {
          "base_uri": "https://localhost:8080/"
        },
        "id": "_H-qNwGx9Oog",
        "outputId": "a7bc1400-85a8-4bcb-a601-967ebe46fc7b"
      },
      "outputs": [
        {
          "name": "stdout",
          "output_type": "stream",
          "text": [
            "Mounted at /content/drive\n"
          ]
        }
      ],
      "source": [
        "'''\n",
        "from google.colab import drive\n",
        "drive.mount('/content/drive')\n",
        "\n",
        "cp ./drive/MyDrive/Books.csv Books.csv\n",
        "'''"
      ]
    },
    {
      "cell_type": "code",
      "execution_count": null,
      "metadata": {
        "colab": {
          "base_uri": "https://localhost:8080/"
        },
        "id": "J2rrQkER_VGh",
        "outputId": "85a29b39-b0e4-42dc-aac4-0b602a8e1226"
      },
      "outputs": [
        {
          "name": "stdout",
          "output_type": "stream",
          "text": [
            "--2021-05-12 12:07:25--  http://deepyeti.ucsd.edu/jianmo/amazon/categoryFilesSmall/Books.csv\n",
            "Resolving deepyeti.ucsd.edu (deepyeti.ucsd.edu)... 169.228.63.50\n",
            "Connecting to deepyeti.ucsd.edu (deepyeti.ucsd.edu)|169.228.63.50|:80... connected.\n",
            "HTTP request sent, awaiting response... 200 OK\n",
            "Length: 2140933459 (2.0G) [application/octet-stream]\n",
            "Saving to: ‘Books.csv’\n",
            "\n",
            "Books.csv           100%[===================>]   1.99G  79.4MB/s    in 24s     \n",
            "\n",
            "2021-05-12 12:07:49 (85.8 MB/s) - ‘Books.csv’ saved [2140933459/2140933459]\n",
            "\n"
          ]
        }
      ],
      "source": [
        "!wget http://deepyeti.ucsd.edu/jianmo/amazon/categoryFilesSmall/Books.csv"
      ]
    },
    {
      "cell_type": "code",
      "execution_count": null,
      "metadata": {
        "id": "ESef79R0CKyi"
      },
      "outputs": [],
      "source": [
        "'''\n",
        "!head -n 10000 Books.csv > books10m.csv\n",
        "\n",
        "custom_date_parser = lambda x: pd.to_datetime(x, unit='s')\n",
        "filename = 'books10m.csv'\n",
        "books = pd.read_csv(filename, names = ['user_id', 'book_id', 'rating', 'date'], parse_dates=['date'], date_parser=custom_date_parser)\n",
        "\n",
        "books\n",
        "'''"
      ]
    },
    {
      "cell_type": "markdown",
      "metadata": {
        "id": "2x4F56zhLaHR"
      },
      "source": [
        "## Task Two:  Reservoir Sampling (you can do this step in the last) (15pts)\n",
        "\n",
        "Write a function `Reservoir_Sampling`:\n",
        "```python\n",
        "def Reservoir_Sampling(infile_name, outfile_name, k):\n",
        "    # your code\n",
        "```\n",
        "It takes the input file name `infile_name`, which in this case is \"Books.csv\" that you downloaded and sample k lines. We use the input file to mimic streaming data by read it line by line: you want to uniformly sample from the streaming data which is effectively infinitely long, you want to make sure that at any moment, for the `n` data points you received so far, you keep `k` points that are uniformly sampled from these `n` points. Note `n` is growing over time and is endlessly growing.\n",
        "\n",
        "We will be implementing an algorithm called Reservoir Sampling to do this, which\n",
        "\n",
        "- if `n<=k` we keep all incoming data points from the stream in a list `KEEP`;\n",
        "- when a new data point that is $n^{th}$ comes, if n>k, roll a dice that gives the new data point a probability of 1/n to be appended to `KEEP`;\n",
        "    - if the $n^{th}$ new data point is to be appended to `KEEP` and if doing so would cause `len(KEEP)==k+1`, we roll another dice to randomly pick a point from `KEEP` (before appending) to throw away, each data point in `KEEP` has equal probability to be discarded.\n",
        "\n",
        "The idea is to read the input file line by line and use \"Reservoir Sampling\" algorithm to keep `K` lines. When all lines from the input file is processed, write the `KEEP` to output file `outfile_name`. You will be building recommender system using this randomly sampled file.\n",
        "\n",
        "This project asks k=10,000,000 (10million, you can use a smaller number before submission):\n",
        "\n",
        "Following code should create the sampled file `books10m.csv' with 10m lines.\n",
        "```python\n",
        "Reservoir_Sampling('Books.csv', 'books10m.csv', 10000000)\n",
        "```\n",
        "\n",
        "If you don't know how to read text file line by line, consult python cheatsheet or search for it. "
      ]
    },
    {
      "cell_type": "code",
      "execution_count": null,
      "metadata": {
        "id": "p1uktU0YGsDE"
      },
      "outputs": [],
      "source": [
        "def Reservoir_Sampling(infile_name, outfile_name, k):\n",
        "  with open(infile_name) as file_object:\n",
        "    lines = file_object.readlines()\n",
        "  KEEP = []\n",
        "  n = 0\n",
        "  for line in lines:\n",
        "    if n < k:\n",
        "      KEEP.append(line)\n",
        "    else:\n",
        "      if random.randint(1, n) <= k:\n",
        "        index = random.randint(0, k - 1)\n",
        "        KEEP[index] = line\n",
        "    n += 1\n",
        "  \n",
        "  with open(outfile_name, 'w') as result_file:\n",
        "    for l in KEEP:\n",
        "      result_file.write(l)\n",
        "  "
      ]
    },
    {
      "cell_type": "code",
      "execution_count": null,
      "metadata": {
        "id": "85h9D8VQVi-H"
      },
      "outputs": [],
      "source": [
        "# DO NOT MODIFY THIS CELL\n",
        "Reservoir_Sampling('Books.csv', 'books10m.csv', 10000000)"
      ]
    },
    {
      "cell_type": "code",
      "execution_count": null,
      "metadata": {
        "colab": {
          "base_uri": "https://localhost:8080/",
          "height": 404
        },
        "id": "A2vGft73RMyK",
        "outputId": "f9388c06-211a-407b-fa88-c4096445af5b"
      },
      "outputs": [
        {
          "data": {
            "text/html": [
              "<div>\n",
              "<style scoped>\n",
              "    .dataframe tbody tr th:only-of-type {\n",
              "        vertical-align: middle;\n",
              "    }\n",
              "\n",
              "    .dataframe tbody tr th {\n",
              "        vertical-align: top;\n",
              "    }\n",
              "\n",
              "    .dataframe thead th {\n",
              "        text-align: right;\n",
              "    }\n",
              "</style>\n",
              "<table border=\"1\" class=\"dataframe\">\n",
              "  <thead>\n",
              "    <tr style=\"text-align: right;\">\n",
              "      <th></th>\n",
              "      <th>user_id</th>\n",
              "      <th>book_id</th>\n",
              "      <th>rating</th>\n",
              "      <th>date</th>\n",
              "    </tr>\n",
              "  </thead>\n",
              "  <tbody>\n",
              "    <tr>\n",
              "      <th>0</th>\n",
              "      <td>0001713353</td>\n",
              "      <td>A1C6M8LCIX4M6M</td>\n",
              "      <td>5.0</td>\n",
              "      <td>2005-08-12</td>\n",
              "    </tr>\n",
              "    <tr>\n",
              "      <th>1</th>\n",
              "      <td>0988185113</td>\n",
              "      <td>A3L73HT5J32G98</td>\n",
              "      <td>5.0</td>\n",
              "      <td>2013-06-21</td>\n",
              "    </tr>\n",
              "    <tr>\n",
              "      <th>2</th>\n",
              "      <td>1479170933</td>\n",
              "      <td>A28BIBPQ1JZ1H9</td>\n",
              "      <td>5.0</td>\n",
              "      <td>2015-07-30</td>\n",
              "    </tr>\n",
              "    <tr>\n",
              "      <th>3</th>\n",
              "      <td>0848733959</td>\n",
              "      <td>A3DQ5GS0JBAO2Z</td>\n",
              "      <td>5.0</td>\n",
              "      <td>2011-11-18</td>\n",
              "    </tr>\n",
              "    <tr>\n",
              "      <th>4</th>\n",
              "      <td>1101966319</td>\n",
              "      <td>A1WKQ94M45D8MG</td>\n",
              "      <td>4.0</td>\n",
              "      <td>2018-07-24</td>\n",
              "    </tr>\n",
              "    <tr>\n",
              "      <th>...</th>\n",
              "      <td>...</td>\n",
              "      <td>...</td>\n",
              "      <td>...</td>\n",
              "      <td>...</td>\n",
              "    </tr>\n",
              "    <tr>\n",
              "      <th>9999995</th>\n",
              "      <td>0983952418</td>\n",
              "      <td>A8RHGPPRXQ2TM</td>\n",
              "      <td>4.0</td>\n",
              "      <td>2015-03-22</td>\n",
              "    </tr>\n",
              "    <tr>\n",
              "      <th>9999996</th>\n",
              "      <td>1592701914</td>\n",
              "      <td>A2PMTP1Q51FMP</td>\n",
              "      <td>5.0</td>\n",
              "      <td>2017-01-23</td>\n",
              "    </tr>\n",
              "    <tr>\n",
              "      <th>9999997</th>\n",
              "      <td>0445408499</td>\n",
              "      <td>A2MB5XC5QP3WBW</td>\n",
              "      <td>4.0</td>\n",
              "      <td>2002-05-23</td>\n",
              "    </tr>\n",
              "    <tr>\n",
              "      <th>9999998</th>\n",
              "      <td>0399137378</td>\n",
              "      <td>A345M2XGCI9AAN</td>\n",
              "      <td>5.0</td>\n",
              "      <td>2010-12-21</td>\n",
              "    </tr>\n",
              "    <tr>\n",
              "      <th>9999999</th>\n",
              "      <td>0399137378</td>\n",
              "      <td>AU9LAKYTF6XB1</td>\n",
              "      <td>2.0</td>\n",
              "      <td>2010-06-25</td>\n",
              "    </tr>\n",
              "  </tbody>\n",
              "</table>\n",
              "<p>10000000 rows × 4 columns</p>\n",
              "</div>"
            ],
            "text/plain": [
              "            user_id         book_id  rating       date\n",
              "0        0001713353  A1C6M8LCIX4M6M     5.0 2005-08-12\n",
              "1        0988185113  A3L73HT5J32G98     5.0 2013-06-21\n",
              "2        1479170933  A28BIBPQ1JZ1H9     5.0 2015-07-30\n",
              "3        0848733959  A3DQ5GS0JBAO2Z     5.0 2011-11-18\n",
              "4        1101966319  A1WKQ94M45D8MG     4.0 2018-07-24\n",
              "...             ...             ...     ...        ...\n",
              "9999995  0983952418   A8RHGPPRXQ2TM     4.0 2015-03-22\n",
              "9999996  1592701914   A2PMTP1Q51FMP     5.0 2017-01-23\n",
              "9999997  0445408499  A2MB5XC5QP3WBW     4.0 2002-05-23\n",
              "9999998  0399137378  A345M2XGCI9AAN     5.0 2010-12-21\n",
              "9999999  0399137378   AU9LAKYTF6XB1     2.0 2010-06-25\n",
              "\n",
              "[10000000 rows x 4 columns]"
            ]
          },
          "execution_count": 19,
          "metadata": {
            "tags": []
          },
          "output_type": "execute_result"
        }
      ],
      "source": [
        "custom_date_parser = lambda x: pd.to_datetime(x, unit='s')\n",
        "filename = 'books10m.csv'\n",
        "books = pd.read_csv(filename, names = ['user_id', 'book_id', 'rating', 'date'], parse_dates=['date'], date_parser=custom_date_parser)\n",
        "\n",
        "books"
      ]
    },
    {
      "cell_type": "markdown",
      "metadata": {
        "id": "wO1_e71u9gc4"
      },
      "source": [
        "## Task Three: Data Exploration (15pts)\n",
        "\n",
        "Please explore your data with appropriate plots and tables/printouts: total counts, value/counts distributions of user-item interactions etc."
      ]
    },
    {
      "cell_type": "code",
      "execution_count": null,
      "metadata": {
        "id": "w1FSZ7G0Fa6G"
      },
      "outputs": [],
      "source": [
        "rating_count = books.value_counts('rating').sort_index()\n",
        "book_count = books.value_counts('book_id')\n",
        "user_count = books.value_counts('user_id')"
      ]
    },
    {
      "cell_type": "markdown",
      "metadata": {
        "id": "_P1XuCJcQXzd"
      },
      "source": [
        "#### Rating"
      ]
    },
    {
      "cell_type": "code",
      "execution_count": null,
      "metadata": {
        "colab": {
          "base_uri": "https://localhost:8080/",
          "height": 313
        },
        "id": "BAyWvxJ0Sbcm",
        "outputId": "357c632f-e47c-4aee-dfe2-077aa15e7e68"
      },
      "outputs": [
        {
          "data": {
            "text/plain": [
              "<matplotlib.axes._subplots.AxesSubplot at 0x7f267855a490>"
            ]
          },
          "execution_count": 41,
          "metadata": {
            "tags": []
          },
          "output_type": "execute_result"
        },
        {
          "data": {
            "image/png": "[encoded data removed]",
            "text/plain": [
              "<Figure size 432x288 with 1 Axes>"
            ]
          },
          "metadata": {
            "needs_background": "light",
            "tags": []
          },
          "output_type": "display_data"
        }
      ],
      "source": [
        "rating_count.plot.bar()"
      ]
    },
    {
      "cell_type": "markdown",
      "metadata": {
        "id": "cVJwQkb6G1cY"
      },
      "source": [
        "The number of ratings increases as rating increases, with the exception of rating equals 2. This shows most books are rated as 5, and very fews books have rate less and equal to 3."
      ]
    },
    {
      "cell_type": "code",
      "execution_count": null,
      "metadata": {
        "colab": {
          "base_uri": "https://localhost:8080/"
        },
        "id": "GiB0JJVxPN58",
        "outputId": "315b8690-a205-4bda-8954-de2290078a96"
      },
      "outputs": [
        {
          "data": {
            "text/plain": [
              "count    1.000000e+07\n",
              "mean     4.393448e+00\n",
              "std      1.044918e+00\n",
              "min      1.000000e+00\n",
              "25%      4.000000e+00\n",
              "50%      5.000000e+00\n",
              "75%      5.000000e+00\n",
              "max      5.000000e+00\n",
              "Name: rating, dtype: float64"
            ]
          },
          "execution_count": 112,
          "metadata": {
            "tags": []
          },
          "output_type": "execute_result"
        }
      ],
      "source": [
        "books.rating.describe()"
      ]
    },
    {
      "cell_type": "markdown",
      "metadata": {
        "id": "v45-5b6iPO0d"
      },
      "source": [
        "The mean rating is 4.39, the median is 5 as shown in bar plot."
      ]
    },
    {
      "cell_type": "code",
      "execution_count": null,
      "metadata": {
        "colab": {
          "base_uri": "https://localhost:8080/"
        },
        "id": "iAE5o1xKQ798",
        "outputId": "4733e3b1-00d3-49f7-aef7-abcc9c3eaef8"
      },
      "outputs": [
        {
          "data": {
            "text/plain": [
              "4.411311926644094"
            ]
          },
          "execution_count": 118,
          "metadata": {
            "tags": []
          },
          "output_type": "execute_result"
        }
      ],
      "source": [
        "books.groupby('book_id')['rating'].mean().mean()"
      ]
    },
    {
      "cell_type": "markdown",
      "metadata": {
        "id": "YEV3kYziSSc1"
      },
      "source": [
        "The average rating of a book is 4.41"
      ]
    },
    {
      "cell_type": "code",
      "execution_count": null,
      "metadata": {
        "colab": {
          "base_uri": "https://localhost:8080/"
        },
        "id": "VAJbQccMR8Os",
        "outputId": "069fbd37-e17b-4986-e9d1-60876e4b4d65"
      },
      "outputs": [
        {
          "data": {
            "text/plain": [
              "4.3974307843357465"
            ]
          },
          "execution_count": 119,
          "metadata": {
            "tags": []
          },
          "output_type": "execute_result"
        }
      ],
      "source": [
        "books.groupby('user_id')['rating'].mean().mean()"
      ]
    },
    {
      "cell_type": "markdown",
      "metadata": {
        "id": "7cIh378aSWOq"
      },
      "source": [
        "The average rating a user gives is 4.40"
      ]
    },
    {
      "cell_type": "markdown",
      "metadata": {
        "id": "azzQMYsYQc_o"
      },
      "source": [
        "#### Book"
      ]
    },
    {
      "cell_type": "code",
      "execution_count": null,
      "metadata": {
        "colab": {
          "base_uri": "https://localhost:8080/",
          "height": 286
        },
        "id": "Xab7EZDpBOpS",
        "outputId": "19105bc6-e410-45d0-e2d4-4bb6b4154a1f"
      },
      "outputs": [
        {
          "data": {
            "text/plain": [
              "<matplotlib.axes._subplots.AxesSubplot at 0x7f262963d9d0>"
            ]
          },
          "execution_count": 92,
          "metadata": {
            "tags": []
          },
          "output_type": "execute_result"
        },
        {
          "data": {
            "image/png": "[encoded data removed]",
            "text/plain": [
              "<Figure size 432x288 with 1 Axes>"
            ]
          },
          "metadata": {
            "needs_background": "light",
            "tags": []
          },
          "output_type": "display_data"
        }
      ],
      "source": [
        "book_count.plot.hist(log = True, bins = range(0, 2100, 100))"
      ]
    },
    {
      "cell_type": "markdown",
      "metadata": {
        "id": "ch74cENWHfV6"
      },
      "source": [
        "Note that this plot is in log scale. Most books have few ratings; only around 1000 books have more than 100 ratings."
      ]
    },
    {
      "cell_type": "code",
      "execution_count": null,
      "metadata": {
        "colab": {
          "base_uri": "https://localhost:8080/"
        },
        "id": "r1MjjbT8P1dB",
        "outputId": "b12e4134-59c1-4cff-835d-086d5aa4400a"
      },
      "outputs": [
        {
          "data": {
            "text/plain": [
              "count    5.344591e+06\n",
              "mean     1.871051e+00\n",
              "std      4.809799e+00\n",
              "min      1.000000e+00\n",
              "25%      1.000000e+00\n",
              "50%      1.000000e+00\n",
              "75%      2.000000e+00\n",
              "max      1.922000e+03\n",
              "dtype: float64"
            ]
          },
          "execution_count": 114,
          "metadata": {
            "tags": []
          },
          "output_type": "execute_result"
        }
      ],
      "source": [
        "book_count.describe()"
      ]
    },
    {
      "cell_type": "markdown",
      "metadata": {
        "id": "A31IB4kvQEjk"
      },
      "source": [
        "On average, a book has been rated 1.87 times."
      ]
    },
    {
      "cell_type": "code",
      "execution_count": null,
      "metadata": {
        "colab": {
          "base_uri": "https://localhost:8080/"
        },
        "id": "MASly132Gs3P",
        "outputId": "81461691-d762-4855-a361-e8918a9bbc6b"
      },
      "outputs": [
        {
          "data": {
            "text/plain": [
              "1     0.72\n",
              "2     0.15\n",
              "3     0.05\n",
              "4     0.03\n",
              "5     0.01\n",
              "6     0.01\n",
              "7     0.01\n",
              "8     0.00\n",
              "9     0.00\n",
              "10    0.00\n",
              "dtype: float64"
            ]
          },
          "execution_count": 102,
          "metadata": {
            "tags": []
          },
          "output_type": "execute_result"
        }
      ],
      "source": [
        "book_count_freq = book_count.value_counts().sort_index()\n",
        "book_count_rfreq = (book_count_freq / sum(book_count_freq)).round(2)\n",
        "book_count_rfreq.head(10)"
      ]
    },
    {
      "cell_type": "markdown",
      "metadata": {
        "id": "QQkzG6RAKCQR"
      },
      "source": [
        "Let's look in detail, 72% of books have only been rated once, 15% of books have been rated twice."
      ]
    },
    {
      "cell_type": "code",
      "execution_count": null,
      "metadata": {
        "colab": {
          "base_uri": "https://localhost:8080/"
        },
        "id": "v3uLc_8vMq0M",
        "outputId": "8c9761b4-efa8-41ce-a2c3-f9d67803ff1b"
      },
      "outputs": [
        {
          "data": {
            "text/plain": [
              "863     1\n",
              "1140    1\n",
              "1379    1\n",
              "1679    1\n",
              "1922    1\n",
              "dtype: int64"
            ]
          },
          "execution_count": 105,
          "metadata": {
            "tags": []
          },
          "output_type": "execute_result"
        }
      ],
      "source": [
        "book_count_freq.tail()"
      ]
    },
    {
      "cell_type": "markdown",
      "metadata": {
        "id": "ZpDZoWj7M2MD"
      },
      "source": [
        "The most reviewed book has 1922 ratings."
      ]
    },
    {
      "cell_type": "markdown",
      "metadata": {
        "id": "CcBzTs4jQffL"
      },
      "source": [
        "#### User"
      ]
    },
    {
      "cell_type": "code",
      "execution_count": null,
      "metadata": {
        "colab": {
          "base_uri": "https://localhost:8080/",
          "height": 282
        },
        "id": "nnhibhY6MH5b",
        "outputId": "e73a3870-557e-4e9d-c15b-4c58d9945801"
      },
      "outputs": [
        {
          "data": {
            "text/plain": [
              "<matplotlib.axes._subplots.AxesSubplot at 0x7f2626c21350>"
            ]
          },
          "execution_count": 98,
          "metadata": {
            "tags": []
          },
          "output_type": "execute_result"
        },
        {
          "data": {
            "image/png": "[encoded data removed]",
            "text/plain": [
              "<Figure size 432x288 with 1 Axes>"
            ]
          },
          "metadata": {
            "needs_background": "light",
            "tags": []
          },
          "output_type": "display_data"
        }
      ],
      "source": [
        "user_count.plot.hist(log = True, bins = range(0, 13000, 1000))"
      ]
    },
    {
      "cell_type": "markdown",
      "metadata": {
        "id": "T6_GYj9QPkab"
      },
      "source": [
        "Note that this plot is in log scale. Most users have few ratings; only around 100 users have more than 1000 ratings."
      ]
    },
    {
      "cell_type": "code",
      "execution_count": null,
      "metadata": {
        "colab": {
          "base_uri": "https://localhost:8080/"
        },
        "id": "aTRdrLg0Qk7J",
        "outputId": "aa0965fe-a906-4167-ee1a-94d35c5a7812"
      },
      "outputs": [
        {
          "data": {
            "text/plain": [
              "count    1.587456e+06\n",
              "mean     6.299387e+00\n",
              "std      3.802877e+01\n",
              "min      1.000000e+00\n",
              "25%      1.000000e+00\n",
              "50%      2.000000e+00\n",
              "75%      4.000000e+00\n",
              "max      1.152800e+04\n",
              "dtype: float64"
            ]
          },
          "execution_count": 115,
          "metadata": {
            "tags": []
          },
          "output_type": "execute_result"
        }
      ],
      "source": [
        "user_count.describe()"
      ]
    },
    {
      "cell_type": "markdown",
      "metadata": {
        "id": "IvK9fe48Qs5i"
      },
      "source": [
        "On average, a user has rated 6.30 books."
      ]
    },
    {
      "cell_type": "code",
      "execution_count": null,
      "metadata": {
        "colab": {
          "base_uri": "https://localhost:8080/"
        },
        "id": "kA8zf4DON6wi",
        "outputId": "4c2fc6e2-1ba5-475b-bae9-21d2bbdfeef0"
      },
      "outputs": [
        {
          "data": {
            "text/plain": [
              "1     0.45\n",
              "2     0.17\n",
              "3     0.09\n",
              "4     0.06\n",
              "5     0.04\n",
              "6     0.03\n",
              "7     0.02\n",
              "8     0.02\n",
              "9     0.01\n",
              "10    0.01\n",
              "dtype: float64"
            ]
          },
          "execution_count": 104,
          "metadata": {
            "tags": []
          },
          "output_type": "execute_result"
        }
      ],
      "source": [
        "user_count_freq = user_count.value_counts().sort_index()\n",
        "user_count_rfreq = (user_count_freq / sum(user_count_freq)).round(2)\n",
        "user_count_rfreq.head(10)"
      ]
    },
    {
      "cell_type": "markdown",
      "metadata": {
        "id": "txp-0s_0Oev0"
      },
      "source": [
        "Let's look in detail, 45% of users have only rated once, 17% of users have rated twice."
      ]
    },
    {
      "cell_type": "code",
      "execution_count": null,
      "metadata": {
        "colab": {
          "base_uri": "https://localhost:8080/"
        },
        "id": "ySa5vEYlOOz8",
        "outputId": "fd2be5fb-10f1-41fb-e06e-80bcd2f55a63"
      },
      "outputs": [
        {
          "data": {
            "text/plain": [
              "7073     1\n",
              "7355     1\n",
              "8571     1\n",
              "8729     1\n",
              "11528    1\n",
              "dtype: int64"
            ]
          },
          "execution_count": 107,
          "metadata": {
            "tags": []
          },
          "output_type": "execute_result"
        }
      ],
      "source": [
        "user_count_freq.tail()"
      ]
    },
    {
      "cell_type": "markdown",
      "metadata": {
        "id": "CTtoS5DpOWrN"
      },
      "source": [
        "The most active user rates 11528 books."
      ]
    },
    {
      "cell_type": "markdown",
      "metadata": {
        "id": "IEF8QI5V-Qz1"
      },
      "source": [
        "## Task Four: Triming your data (15pts)\n",
        "\n",
        "Since the dataset is pretty sparse. Please trim down the size of the data by:\n",
        "\n",
        "- removing data before '2000-01-01 00:00:00', let's focus on more recent data\n",
        "\n",
        "- removing books that received less than or equal 2 ratings\n",
        "\n",
        "- removing users that reviewed less than or equal `m` books, where m is 80% quantile of user ratings count (i.e., variable to consider for quantile is the total count of ratings by each user) -- we keep only the top 20% user who are active in rating books.\n",
        "\n",
        "Print out the statistics before and after triming for the total users and books and dataframe shape."
      ]
    },
    {
      "cell_type": "code",
      "execution_count": null,
      "metadata": {
        "colab": {
          "base_uri": "https://localhost:8080/"
        },
        "id": "VfAfrckQdTZh",
        "outputId": "b7795bdc-4cec-4173-ec3f-b754eff96df5"
      },
      "outputs": [
        {
          "name": "stdout",
          "output_type": "stream",
          "text": [
            "before triming:\n",
            "number of books: 5344406 \n",
            "number of users: 1587897\n",
            "mean rating: 4.3932903 \n",
            "median rating: 5.0\n",
            "rating distribution:\n"
          ]
        },
        {
          "data": {
            "text/plain": [
              "5.0    6622367\n",
              "4.0    1863096\n",
              "3.0     747008\n",
              "1.0     407394\n",
              "2.0     360133\n",
              "0.0          2\n",
              "Name: rating, dtype: int64"
            ]
          },
          "execution_count": 7,
          "metadata": {
            "tags": []
          },
          "output_type": "execute_result"
        }
      ],
      "source": [
        "print('before triming:')\n",
        "print('number of books:', books.book_id.nunique(), '\\nnumber of users:', books.user_id.nunique())\n",
        "print('mean rating:', books.rating.mean(), '\\nmedian rating:', books.rating.median())\n",
        "print('rating distribution:')\n",
        "books.rating.value_counts()"
      ]
    },
    {
      "cell_type": "code",
      "execution_count": null,
      "metadata": {
        "id": "_Wy6e0E6yjrj"
      },
      "outputs": [],
      "source": [
        "def trim(books):\n",
        "  books = books[books['date'] >= '2010-01-01']\n",
        "\n",
        "  book_count = books.book_id.value_counts()\n",
        "  book_keep = book_count[book_count > 2]\n",
        "  del book_count\n",
        "\n",
        "  user_count = books.user_id.value_counts()\n",
        "  user_keep = user_count[user_count > user_count.quantile(0.8)]\n",
        "  del user_count\n",
        "  \n",
        "  books = books.merge(book_keep.rename('book'), left_on = 'book_id', right_index = True)\n",
        "  del book_keep\n",
        "  books = books.merge(user_keep.rename('user'), left_on = 'user_id', right_index = True)\n",
        "  del user_keep\n",
        "\n",
        "  return books"
      ]
    },
    {
      "cell_type": "code",
      "execution_count": null,
      "metadata": {
        "colab": {
          "base_uri": "https://localhost:8080/",
          "height": 404
        },
        "id": "IoZeKA8ly4JQ",
        "outputId": "1f38ff93-ac61-4c01-9de3-37239ddbdd65"
      },
      "outputs": [
        {
          "data": {
            "text/html": [
              "<div>\n",
              "<style scoped>\n",
              "    .dataframe tbody tr th:only-of-type {\n",
              "        vertical-align: middle;\n",
              "    }\n",
              "\n",
              "    .dataframe tbody tr th {\n",
              "        vertical-align: top;\n",
              "    }\n",
              "\n",
              "    .dataframe thead th {\n",
              "        text-align: right;\n",
              "    }\n",
              "</style>\n",
              "<table border=\"1\" class=\"dataframe\">\n",
              "  <thead>\n",
              "    <tr style=\"text-align: right;\">\n",
              "      <th></th>\n",
              "      <th>user_id</th>\n",
              "      <th>book_id</th>\n",
              "      <th>rating</th>\n",
              "      <th>date</th>\n",
              "      <th>book</th>\n",
              "      <th>user</th>\n",
              "    </tr>\n",
              "  </thead>\n",
              "  <tbody>\n",
              "    <tr>\n",
              "      <th>1</th>\n",
              "      <td>0988185113</td>\n",
              "      <td>A3L73HT5J32G98</td>\n",
              "      <td>5.0</td>\n",
              "      <td>2013-06-21</td>\n",
              "      <td>18</td>\n",
              "      <td>10</td>\n",
              "    </tr>\n",
              "    <tr>\n",
              "      <th>7100964</th>\n",
              "      <td>0988185113</td>\n",
              "      <td>A3CQLQXVXOKLWL</td>\n",
              "      <td>3.0</td>\n",
              "      <td>2014-10-18</td>\n",
              "      <td>176</td>\n",
              "      <td>10</td>\n",
              "    </tr>\n",
              "    <tr>\n",
              "      <th>8474344</th>\n",
              "      <td>0988185113</td>\n",
              "      <td>A14XEJQEVKQLFH</td>\n",
              "      <td>5.0</td>\n",
              "      <td>2013-11-09</td>\n",
              "      <td>16</td>\n",
              "      <td>10</td>\n",
              "    </tr>\n",
              "    <tr>\n",
              "      <th>8510305</th>\n",
              "      <td>0988185113</td>\n",
              "      <td>A2JL5XS80EXSYB</td>\n",
              "      <td>5.0</td>\n",
              "      <td>2013-09-26</td>\n",
              "      <td>17</td>\n",
              "      <td>10</td>\n",
              "    </tr>\n",
              "    <tr>\n",
              "      <th>8146174</th>\n",
              "      <td>0988185113</td>\n",
              "      <td>A1FCVX9J52FFDO</td>\n",
              "      <td>5.0</td>\n",
              "      <td>2014-01-04</td>\n",
              "      <td>17</td>\n",
              "      <td>10</td>\n",
              "    </tr>\n",
              "    <tr>\n",
              "      <th>...</th>\n",
              "      <td>...</td>\n",
              "      <td>...</td>\n",
              "      <td>...</td>\n",
              "      <td>...</td>\n",
              "      <td>...</td>\n",
              "      <td>...</td>\n",
              "    </tr>\n",
              "    <tr>\n",
              "      <th>9633104</th>\n",
              "      <td>1935961462</td>\n",
              "      <td>A1QSYM4CUUFIXG</td>\n",
              "      <td>5.0</td>\n",
              "      <td>2013-11-19</td>\n",
              "      <td>4</td>\n",
              "      <td>6</td>\n",
              "    </tr>\n",
              "    <tr>\n",
              "      <th>9407328</th>\n",
              "      <td>1883206561</td>\n",
              "      <td>A16MQLZ96ZRADB</td>\n",
              "      <td>3.0</td>\n",
              "      <td>2012-03-31</td>\n",
              "      <td>4</td>\n",
              "      <td>6</td>\n",
              "    </tr>\n",
              "    <tr>\n",
              "      <th>9544737</th>\n",
              "      <td>1599821419</td>\n",
              "      <td>A1AM5GJH4EWHFC</td>\n",
              "      <td>4.0</td>\n",
              "      <td>2015-10-03</td>\n",
              "      <td>3</td>\n",
              "      <td>21</td>\n",
              "    </tr>\n",
              "    <tr>\n",
              "      <th>9505751</th>\n",
              "      <td>0321714776</td>\n",
              "      <td>ARIZELVGMVMW4</td>\n",
              "      <td>5.0</td>\n",
              "      <td>2013-08-01</td>\n",
              "      <td>3</td>\n",
              "      <td>6</td>\n",
              "    </tr>\n",
              "    <tr>\n",
              "      <th>9518677</th>\n",
              "      <td>1934009504</td>\n",
              "      <td>AOO0SK788KPX7</td>\n",
              "      <td>4.0</td>\n",
              "      <td>2017-12-12</td>\n",
              "      <td>3</td>\n",
              "      <td>7</td>\n",
              "    </tr>\n",
              "  </tbody>\n",
              "</table>\n",
              "<p>3259840 rows × 6 columns</p>\n",
              "</div>"
            ],
            "text/plain": [
              "            user_id         book_id  rating       date  book  user\n",
              "1        0988185113  A3L73HT5J32G98     5.0 2013-06-21    18    10\n",
              "7100964  0988185113  A3CQLQXVXOKLWL     3.0 2014-10-18   176    10\n",
              "8474344  0988185113  A14XEJQEVKQLFH     5.0 2013-11-09    16    10\n",
              "8510305  0988185113  A2JL5XS80EXSYB     5.0 2013-09-26    17    10\n",
              "8146174  0988185113  A1FCVX9J52FFDO     5.0 2014-01-04    17    10\n",
              "...             ...             ...     ...        ...   ...   ...\n",
              "9633104  1935961462  A1QSYM4CUUFIXG     5.0 2013-11-19     4     6\n",
              "9407328  1883206561  A16MQLZ96ZRADB     3.0 2012-03-31     4     6\n",
              "9544737  1599821419  A1AM5GJH4EWHFC     4.0 2015-10-03     3    21\n",
              "9505751  0321714776   ARIZELVGMVMW4     5.0 2013-08-01     3     6\n",
              "9518677  1934009504   AOO0SK788KPX7     4.0 2017-12-12     3     7\n",
              "\n",
              "[3259840 rows x 6 columns]"
            ]
          },
          "execution_count": 29,
          "metadata": {
            "tags": []
          },
          "output_type": "execute_result"
        }
      ],
      "source": [
        "books = trim(books)\n",
        "books"
      ]
    },
    {
      "cell_type": "code",
      "execution_count": null,
      "metadata": {
        "colab": {
          "base_uri": "https://localhost:8080/"
        },
        "id": "EejQbBh1hgKQ",
        "outputId": "1363ae7c-00c9-4d28-e33f-0ae1cbd6b560"
      },
      "outputs": [
        {
          "name": "stdout",
          "output_type": "stream",
          "text": [
            "after triming:\n",
            "rows of data: 3260044\n",
            "number of books: 628404 \n",
            "number of users: 256029\n",
            "mean rating: 4.394123208153019 \n",
            "median rating: 5.0\n",
            "rating distribution:\n"
          ]
        },
        {
          "data": {
            "text/plain": [
              "5.0    2045511\n",
              "4.0     733246\n",
              "3.0     285644\n",
              "2.0     111922\n",
              "1.0      83720\n",
              "0.0          1\n",
              "Name: rating, dtype: int64"
            ]
          },
          "execution_count": 88,
          "metadata": {
            "tags": []
          },
          "output_type": "execute_result"
        }
      ],
      "source": [
        "print('after triming:')\n",
        "print('rows of data:', len(books))\n",
        "print('number of books:', books.book_id.nunique(), '\\nnumber of users:', books.user_id.nunique())\n",
        "print('mean rating:', books.rating.mean(), '\\nmedian rating:', books.rating.median())\n",
        "print('rating distribution:')\n",
        "books.rating.value_counts()"
      ]
    },
    {
      "cell_type": "markdown",
      "metadata": {
        "id": "7W21cT1XFpMU"
      },
      "source": [
        "## Task Five: fit the model using the data. (20pts)\n",
        "\n",
        "You should prepare your data for surprise library. Check document [here](https://surprise.readthedocs.io/en/stable/getting_started.html#use-a-custom-dataset) for how to read data from pandas data frame or from text file--you need to make sure your data frame or text file follow the required format as shown in the example code.\n",
        "\n",
        "Then you should run code below, it takes less than 30min to finish for 'books10m.csv' data set after trimming. Basically it fits the data with latent factor decomposition (SVD), that factorize the user-item matrix into latent factor matrices P and Q. The dimension (number of latent features) of P and Q is specified by `n_factors`, which defaults to 100. See `?SVD` for more options and details. The code chunk would run the SVD 3 times (called k-fold cross validation, k=3 here), each with a random split of the data into 20% for test, 80% for training, and RMS error is printed out for each of 3 runs.\n",
        "\n",
        "You should run the code with default call to `SVD()`, as well as in n_factors=50 and n_factors = 150, respectively. Compare the RMSE and running time."
      ]
    },
    {
      "cell_type": "code",
      "execution_count": null,
      "metadata": {
        "id": "fppVpN-hJAyR"
      },
      "outputs": [],
      "source": [
        "from surprise import SVD\n",
        "from surprise import Dataset\n",
        "from surprise.model_selection import cross_validate\n",
        "from surprise import Reader\n",
        "\n",
        "\n",
        "from surprise import accuracy\n",
        "from surprise.model_selection import KFold"
      ]
    },
    {
      "cell_type": "code",
      "execution_count": null,
      "metadata": {
        "id": "aMeHRYa7G_Gu"
      },
      "outputs": [],
      "source": [
        "# Your code to prepare data\n",
        "reader = Reader()\n",
        "\n",
        "# Load the dataset w \n",
        "data = Dataset.load_from_df(books[['user_id','book_id','rating']], reader)"
      ]
    },
    {
      "cell_type": "markdown",
      "metadata": {
        "id": "y0KUTNBxG_Wo"
      },
      "source": [
        "#### Run code chunk below as is after data is loaded."
      ]
    },
    {
      "cell_type": "code",
      "execution_count": null,
      "metadata": {
        "colab": {
          "base_uri": "https://localhost:8080/"
        },
        "id": "al35GtcY81Xo",
        "outputId": "e1cdaaa0-36e0-4fcd-8d45-b580b681b92c"
      },
      "outputs": [
        {
          "name": "stdout",
          "output_type": "stream",
          "text": [
            "RMSE: 0.8879\n",
            "RMSE: 0.8886\n",
            "RMSE: 0.8893\n"
          ]
        }
      ],
      "source": [
        "# define a cross-validation iterator\n",
        "kf = KFold(n_splits=3)\n",
        "\n",
        "algo = SVD()\n",
        "\n",
        "for trainset, testset in kf.split(data):\n",
        "\n",
        "    # train and test algorithm.\n",
        "    algo.fit(trainset)\n",
        "    predictions = algo.test(testset)\n",
        "\n",
        "    # Compute and print Root Mean Squared Error\n",
        "    accuracy.rmse(predictions, verbose=True)"
      ]
    },
    {
      "cell_type": "markdown",
      "metadata": {
        "id": "9WV4U5snQERf"
      },
      "source": [
        "Output example:\n",
        "```\n",
        "RMSE: 0.9793\n",
        "RMSE: 0.9796\n",
        "RMSE: 0.9783\n",
        "```"
      ]
    },
    {
      "cell_type": "markdown",
      "metadata": {
        "id": "BD2MzUJLMIMl"
      },
      "source": [
        "#### Copy code chunk above and use n_factors=50 for `SVD` call, then rerun."
      ]
    },
    {
      "cell_type": "code",
      "execution_count": null,
      "metadata": {
        "colab": {
          "base_uri": "https://localhost:8080/"
        },
        "id": "EJ704AyNMGaE",
        "outputId": "3311b2ca-be5f-4731-be9c-5c5e7722aa88"
      },
      "outputs": [
        {
          "name": "stdout",
          "output_type": "stream",
          "text": [
            "RMSE: 0.8840\n",
            "RMSE: 0.8840\n",
            "RMSE: 0.8867\n"
          ]
        }
      ],
      "source": [
        "# define a cross-validation iterator\n",
        "kf = KFold(n_splits=3)\n",
        "\n",
        "algo = SVD(n_factors = 50)\n",
        "\n",
        "for trainset, testset in kf.split(data):\n",
        "\n",
        "    # train and test algorithm.\n",
        "    algo.fit(trainset)\n",
        "    predictions = algo.test(testset)\n",
        "\n",
        "    # Compute and print Root Mean Squared Error\n",
        "    accuracy.rmse(predictions, verbose=True)"
      ]
    },
    {
      "cell_type": "markdown",
      "metadata": {
        "id": "yrk6fQU6MbIF"
      },
      "source": [
        "#### Copy code chunk above and use n_factors=150 for `SVD` call, then rerun."
      ]
    },
    {
      "cell_type": "code",
      "execution_count": null,
      "metadata": {
        "colab": {
          "base_uri": "https://localhost:8080/"
        },
        "id": "Vblnygl4Mc5K",
        "outputId": "62c9f5b8-3813-4d4c-d0ab-308c619c75c1"
      },
      "outputs": [
        {
          "name": "stdout",
          "output_type": "stream",
          "text": [
            "RMSE: 0.8911\n",
            "RMSE: 0.8910\n",
            "RMSE: 0.8950\n"
          ]
        }
      ],
      "source": [
        "# define a cross-validation iterator\n",
        "kf = KFold(n_splits=3)\n",
        "\n",
        "algo = SVD(n_factors = 150)\n",
        "\n",
        "for trainset, testset in kf.split(data):\n",
        "\n",
        "    # train and test algorithm.\n",
        "    algo.fit(trainset)\n",
        "    predictions = algo.test(testset)\n",
        "\n",
        "    # Compute and print Root Mean Squared Error\n",
        "    accuracy.rmse(predictions, verbose=True)"
      ]
    },
    {
      "cell_type": "markdown",
      "metadata": {
        "id": "2V3FMv4IMj9C"
      },
      "source": [
        "## Task Six: use the model for recommendation (15pts)\n",
        "\n",
        "Use any one of the users from above trainset in the last code chunk (n_factors=150) to predict his/her book ratings. Print the top 10 books that he did not rate but would rate highest as recommended books.\n",
        "\n",
        "You can reference document here:\n",
        "https://surprise.readthedocs.io/en/stable/getting_started.html#train-on-a-whole-trainset-and-the-predict-method\n",
        "\n",
        "Read the example code about how to do this. Please note it doesn't matter if \n",
        "\n",
        "```python\n",
        "algo = KNNBasic()\n",
        "```\n",
        "or\n",
        "```python\n",
        "algo = SVD()\n",
        "```\n",
        "\n",
        "The syntax for prediction is the same."
      ]
    },
    {
      "cell_type": "markdown",
      "metadata": {
        "id": "Qfow23CyQw6Y"
      },
      "source": [
        "- Raw id: id in data frame\n",
        "- Inner id: assigned unique integer by Surprise, range(0, len)\n",
        "- uid: user id\n",
        "- iid: item id (book id）\n",
        "\n",
        "predict():\n",
        "- use raw id\n",
        "\n",
        "trainset:\n",
        "- contain inner id\n",
        "\n",
        "to_raw_uid(), to_raw_iid():\n",
        "- convert inner to raw"
      ]
    },
    {
      "cell_type": "code",
      "execution_count": null,
      "metadata": {
        "colab": {
          "base_uri": "https://localhost:8080/"
        },
        "id": "BhRINw9zS1AY",
        "outputId": "9c3af648-e312-4469-f55f-8937a2b2c522"
      },
      "outputs": [
        {
          "data": {
            "text/plain": [
              "<surprise.prediction_algorithms.matrix_factorization.SVD at 0x7f7754b1f290>"
            ]
          },
          "execution_count": 16,
          "metadata": {
            "tags": []
          },
          "output_type": "execute_result"
        }
      ],
      "source": [
        "algo = SVD()\n",
        "algo.fit(trainset)"
      ]
    },
    {
      "cell_type": "code",
      "execution_count": null,
      "metadata": {
        "id": "djFF4V5ePtrg"
      },
      "outputs": [],
      "source": [
        "user_id = trainset.to_raw_uid(0)\n",
        "rated_books = trainset.ur[0]\n",
        "rated_books = [i[0] for i in rated_books]\n",
        "new_books = [b for b in trainset.all_items() if b not in rated_books]\n",
        "\n",
        "predictions = []\n",
        "for b in new_books:\n",
        "  book_id = trainset.to_raw_iid(b)\n",
        "  est = algo.predict(str(user_id), book_id).est\n",
        "  predictions.append([book_id, est])"
      ]
    },
    {
      "cell_type": "code",
      "execution_count": null,
      "metadata": {
        "colab": {
          "base_uri": "https://localhost:8080/",
          "height": 345
        },
        "id": "2svXzXcnZNZc",
        "outputId": "e7cedffd-f85d-444f-fcb7-4daeab88edb4"
      },
      "outputs": [
        {
          "data": {
            "text/html": [
              "<div>\n",
              "<style scoped>\n",
              "    .dataframe tbody tr th:only-of-type {\n",
              "        vertical-align: middle;\n",
              "    }\n",
              "\n",
              "    .dataframe tbody tr th {\n",
              "        vertical-align: top;\n",
              "    }\n",
              "\n",
              "    .dataframe thead th {\n",
              "        text-align: right;\n",
              "    }\n",
              "</style>\n",
              "<table border=\"1\" class=\"dataframe\">\n",
              "  <thead>\n",
              "    <tr style=\"text-align: right;\">\n",
              "      <th></th>\n",
              "      <th>book_id</th>\n",
              "      <th>rating</th>\n",
              "    </tr>\n",
              "  </thead>\n",
              "  <tbody>\n",
              "    <tr>\n",
              "      <th>156659</th>\n",
              "      <td>A115DNKESW9EAE</td>\n",
              "      <td>4.523907</td>\n",
              "    </tr>\n",
              "    <tr>\n",
              "      <th>12102</th>\n",
              "      <td>A39M153PSJWSVR</td>\n",
              "      <td>4.511583</td>\n",
              "    </tr>\n",
              "    <tr>\n",
              "      <th>90879</th>\n",
              "      <td>A22VTPKPQC0LW2</td>\n",
              "      <td>4.509924</td>\n",
              "    </tr>\n",
              "    <tr>\n",
              "      <th>14387</th>\n",
              "      <td>AEIU24QQVHUM2</td>\n",
              "      <td>4.500793</td>\n",
              "    </tr>\n",
              "    <tr>\n",
              "      <th>35474</th>\n",
              "      <td>A3VO2CKSPF8EHP</td>\n",
              "      <td>4.466795</td>\n",
              "    </tr>\n",
              "    <tr>\n",
              "      <th>190272</th>\n",
              "      <td>A3D3ATAUKEUXGA</td>\n",
              "      <td>4.462122</td>\n",
              "    </tr>\n",
              "    <tr>\n",
              "      <th>104644</th>\n",
              "      <td>AGFJ3DPS5ZXAW</td>\n",
              "      <td>4.450816</td>\n",
              "    </tr>\n",
              "    <tr>\n",
              "      <th>61008</th>\n",
              "      <td>A3H8GNI7FAMGWE</td>\n",
              "      <td>4.447807</td>\n",
              "    </tr>\n",
              "    <tr>\n",
              "      <th>174118</th>\n",
              "      <td>A1CIZXC51NKLSR</td>\n",
              "      <td>4.447380</td>\n",
              "    </tr>\n",
              "    <tr>\n",
              "      <th>38531</th>\n",
              "      <td>ACNA2DX8FTGWG</td>\n",
              "      <td>4.444844</td>\n",
              "    </tr>\n",
              "  </tbody>\n",
              "</table>\n",
              "</div>"
            ],
            "text/plain": [
              "               book_id    rating\n",
              "156659  A115DNKESW9EAE  4.523907\n",
              "12102   A39M153PSJWSVR  4.511583\n",
              "90879   A22VTPKPQC0LW2  4.509924\n",
              "14387    AEIU24QQVHUM2  4.500793\n",
              "35474   A3VO2CKSPF8EHP  4.466795\n",
              "190272  A3D3ATAUKEUXGA  4.462122\n",
              "104644   AGFJ3DPS5ZXAW  4.450816\n",
              "61008   A3H8GNI7FAMGWE  4.447807\n",
              "174118  A1CIZXC51NKLSR  4.447380\n",
              "38531    ACNA2DX8FTGWG  4.444844"
            ]
          },
          "execution_count": 57,
          "metadata": {
            "tags": []
          },
          "output_type": "execute_result"
        }
      ],
      "source": [
        "predictions = pd.DataFrame(predictions, columns = ['book_id', 'rating'])\n",
        "predictions.sort_values('rating', ascending = False).head(10)"
      ]
    },
    {
      "cell_type": "markdown",
      "metadata": {
        "id": "w5F6M4FUU8K2"
      },
      "source": [
        "## Task Seven: build the SVD from scratch. (20pts, including 10pts for bonus)\n",
        "\n",
        "\n",
        "Reference article [here](https://albertauyeung.github.io/2017/04/23/python-matrix-factorization.html) and notebook [here](https://albertauyeung.github.io/2017/04/23/python-matrix-factorization.html) for doing SVD/matrix factorization from scratch without using surprise. You can copy his code but you must use our sampled data from Books.csv, but you can furth reduce the data size to be 10% of the rows.\n",
        "\n",
        "You want to play with his code first and after you understand it you put in our dataset.\n",
        "\n",
        "You can use the train/test split function from surprise to do train/test split:\n",
        "```python\n",
        "from surprise.model_selection import train_test_split\n",
        "trainset, testset = train_test_split(data, test_size=.25)\n",
        "\n",
        "# train your copied model with our data\n",
        "```\n",
        "Note: you have to figure out how to convert trainset and testset objects into the data format for the MF object. You can use python's `dir()` function to see methods/attributes of trainset, testset to explore.\n",
        "\n",
        "Then you call the `get_rating` method in `MF` class to predict ratings from testset, then you compute RMSE using the ratings from testset as ground truth.\n",
        "\n"
      ]
    },
    {
      "cell_type": "markdown",
      "metadata": {
        "id": "lmGEsfXkNJMx"
      },
      "source": [
        "Problems and Solutions:\n",
        "- \n",
        "  - Since ndarray does not have label/index for row and column, I will use the inner id generate by testset (so id corrsponds to index). I can get raw id back by using to_raw_iid and to_raw_uid if needed.\n",
        "  - all_ratings gives inner id; build_testset() gives raw id.\n",
        "- \n",
        "  - I randomly sample 10% of trimmed data (1st sample). It has around 300000 rows of data, with 200000 books and 100000 users. \n",
        "  - RAM exceeds its limit when I create a ndarray with np.zero().\n",
        "- \n",
        "  - Thus, I want to reduce the data more by applying another interpretation. I randomly sample 1M data from the original dataset (which is 10% of the 10M), then trim the data like what I do before (2nd sample). This reduce data to 70000 rows, with 24000 books and 35000 users. \n",
        "  - This time, the ndarray is created successfully, but RAM exceeds its limit after running mf.train() for 5 minutes.\n",
        "- \n",
        "  - I get a suggestion from Shudi, which is to use csr_matrix (a sparse matrix). This can lower the memory used.\n",
        "  - csr_matrix also has shape and nonzero, so no need to change. However, the part for calculating mean does not work. So, I research a way for csr_matrix.\n",
        "  - It takes a long time for the function to excute; I wait for 20 minutes and do not get the result. Shudi says that he tries a hour but still does not get the result.\n",
        "  - I find that it takes a long time for the line with linear combination (creating self.samples). I think it is the cause of the problem, because even when I reduce data to 70000 rows, there are still 24000 books and 35000 users, which means it needs to excute nearly 1 billion if-statement. Since the origianl data (testset.all_ratings()) is what self.samples intends to get, I will pass the original data as a paramter when creating a MF object.\n",
        "  - By running train() again, I notice that my understanding is correct. Note: it may still crash if too many things are run before it, rerun only this part after crashed.\n",
        "- \n",
        "  - I try to see if this optimization would work for the 1st sample. However, RAM crashes after 20 seconds.\n",
        "  - Interesting fact: train() has a for loop calling sgd() and mse(), where they each has a for loop inside. I notice the crash happens during the first iteration of train(), inside sgd(). I wish to know how many iterations are successful run in sgd(), so I add a print statement inside the for loop of sgd(). However, it has never crashed again. The new crash happens at full_matrix() in mse(). full_matrix() creates a gaint ndarray (I don't think using sparse matrix would get better, since the matrix is not sparse)\n",
        "- \n",
        "  - Another problem is the cold start problem when calculating mse, where many or most books and users in the test set are not in the train set (less predicitons exist). \n",
        "  - This problem is more severe when using 1st sample, because after trimming, the data is sampled twice (10%, then train_test_split). After sampling 10% of trimmed data, many books and users only have one record. "
      ]
    },
    {
      "cell_type": "code",
      "execution_count": null,
      "metadata": {
        "id": "_a1_wfWEyKAB"
      },
      "outputs": [],
      "source": [
        "Reservoir_Sampling('Books.csv', 'books1m.csv', 1000000)"
      ]
    },
    {
      "cell_type": "code",
      "execution_count": null,
      "metadata": {
        "id": "GPlGpx9Y5Q9g"
      },
      "outputs": [],
      "source": [
        "custom_date_parser = lambda x: pd.to_datetime(x, unit='s')\n",
        "filename = 'books1m.csv'\n",
        "books = pd.read_csv(filename, names = ['user_id', 'book_id', 'rating', 'date'], parse_dates=['date'], date_parser=custom_date_parser)\n",
        "\n",
        "books = trim(books)"
      ]
    },
    {
      "cell_type": "code",
      "execution_count": null,
      "metadata": {
        "id": "t1JUQmGhjWl5"
      },
      "outputs": [],
      "source": [
        "from surprise.model_selection import train_test_split\n",
        "reader = Reader()\n",
        "data = Dataset.load_from_df(books[['user_id','book_id','rating']], reader)\n",
        "trainset, testset = train_test_split(data, test_size=.25)"
      ]
    },
    {
      "cell_type": "code",
      "execution_count": null,
      "metadata": {
        "id": "vMmSYDStlxtn"
      },
      "outputs": [],
      "source": [
        "class MF():\n",
        "\n",
        "    def __init__(self, R, K, alpha, beta, iterations, samples):\n",
        "        \"\"\"\n",
        "        Perform matrix factorization to predict empty\n",
        "        entries in a matrix.\n",
        "\n",
        "        Arguments\n",
        "        - R (ndarray)   : user-item rating matrix\n",
        "        - K (int)       : number of latent dimensions\n",
        "        - alpha (float) : learning rate\n",
        "        - beta (float)  : regularization parameter\n",
        "        \"\"\"\n",
        "        self.R = R\n",
        "        self.num_users, self.num_items = R.shape\n",
        "        self.K = K\n",
        "        self.alpha = alpha\n",
        "        self.beta = beta\n",
        "        self.iterations = iterations\n",
        "        self.samples = samples\n",
        "\n",
        "    def train(self):\n",
        "        # Initialize user and item latent feature matrice\n",
        "        self.P = np.random.normal(scale=1./self.K, size=(self.num_users, self.K))\n",
        "        self.Q = np.random.normal(scale=1./self.K, size=(self.num_items, self.K))\n",
        "\n",
        "        # Initialize the biases\n",
        "        self.b_u = np.zeros(self.num_users)\n",
        "        self.b_i = np.zeros(self.num_items)\n",
        "        #self.b = np.mean(self.R[np.where(self.R != 0)])\n",
        "        self.b = self.R.sum() / self.R.count_nonzero()\n",
        "\n",
        "        # Create a list of training samples\n",
        "        '''\n",
        "        self.samples = [\n",
        "            (i, j, self.R[i, j])\n",
        "            for i in range(self.num_users)\n",
        "            for j in range(self.num_items)\n",
        "            if self.R[i, j] > 0\n",
        "        ]\n",
        "        '''\n",
        "\n",
        "        # Perform stochastic gradient descent for number of iterations\n",
        "        training_process = []\n",
        "        for i in range(self.iterations):\n",
        "            np.random.shuffle(self.samples)\n",
        "            self.sgd()\n",
        "            mse = self.mse()\n",
        "            training_process.append((i, mse))\n",
        "            if (i+1) % 10 == 0:\n",
        "                print(\"Iteration: %d ; error = %.4f\" % (i+1, mse))\n",
        "\n",
        "        return training_process\n",
        "\n",
        "    def mse(self):\n",
        "        \"\"\"\n",
        "        A function to compute the total mean square error\n",
        "        \"\"\"\n",
        "        xs, ys = self.R.nonzero()\n",
        "        predicted = self.full_matrix()\n",
        "        error = 0\n",
        "        for x, y in zip(xs, ys):\n",
        "            error += pow(self.R[x, y] - predicted[x, y], 2)\n",
        "        return np.sqrt(error)\n",
        "\n",
        "    def sgd(self):\n",
        "        \"\"\"\n",
        "        Perform stochastic graident descent\n",
        "        \"\"\"\n",
        "        for i, j, r in self.samples:\n",
        "            # Computer prediction and error\n",
        "            prediction = self.get_rating(i, j)\n",
        "            e = (r - prediction)\n",
        "\n",
        "            # Update biases\n",
        "            self.b_u[i] += self.alpha * (e - self.beta * self.b_u[i])\n",
        "            self.b_i[j] += self.alpha * (e - self.beta * self.b_i[j])\n",
        "\n",
        "            # Update user and item latent feature matrices\n",
        "            self.P[i, :] += self.alpha * (e * self.Q[j, :] - self.beta * self.P[i,:])\n",
        "            self.Q[j, :] += self.alpha * (e * self.P[i, :] - self.beta * self.Q[j,:])\n",
        "\n",
        "    def get_rating(self, i, j):\n",
        "        \"\"\"\n",
        "        Get the predicted rating of user i and item j\n",
        "        \"\"\"\n",
        "        prediction = self.b + self.b_u[i] + self.b_i[j] + self.P[i, :].dot(self.Q[j, :].T)\n",
        "        return prediction\n",
        "\n",
        "    def full_matrix(self):\n",
        "        \"\"\"\n",
        "        Computer the full matrix using the resultant biases, P and Q\n",
        "        \"\"\"\n",
        "        return self.b + self.b_u[:,np.newaxis] + self.b_i[np.newaxis:,] + self.P.dot(self.Q.T)"
      ]
    },
    {
      "cell_type": "code",
      "execution_count": null,
      "metadata": {
        "id": "nG8vUmVmCE35"
      },
      "outputs": [],
      "source": [
        "from scipy.sparse import csr_matrix"
      ]
    },
    {
      "cell_type": "code",
      "execution_count": null,
      "metadata": {
        "colab": {
          "base_uri": "https://localhost:8080/"
        },
        "id": "7H1zg-XY8urR",
        "outputId": "984435f6-cd33-4b33-f590-e43c42d5805b"
      },
      "outputs": [
        {
          "name": "stdout",
          "output_type": "stream",
          "text": [
            "Iteration: 10 ; error = 66.1286\n",
            "Iteration: 20 ; error = 55.7474\n"
          ]
        },
        {
          "data": {
            "text/plain": [
              "[(0, 164.60101927217195),\n",
              " (1, 131.36434743768248),\n",
              " (2, 111.29122843361925),\n",
              " (3, 97.86058657195223),\n",
              " (4, 88.34779867842971),\n",
              " (5, 81.33297032333914),\n",
              " (6, 76.03311461663573),\n",
              " (7, 71.98198759487425),\n",
              " (8, 68.76858085623256),\n",
              " (9, 66.12855690447321),\n",
              " (10, 64.07608328228942),\n",
              " (11, 62.40374602189928),\n",
              " (12, 61.03984055349415),\n",
              " (13, 59.87378698999708),\n",
              " (14, 58.89367759402125),\n",
              " (15, 58.01810087389889),\n",
              " (16, 57.34621648346579),\n",
              " (17, 56.731545004902635),\n",
              " (18, 56.189307824537494),\n",
              " (19, 55.747407949420705)]"
            ]
          },
          "execution_count": 12,
          "metadata": {
            "tags": []
          },
          "output_type": "execute_result"
        }
      ],
      "source": [
        "u = [r[0] for r in list(trainset.all_ratings())]\n",
        "b = [r[1] for r in list(trainset.all_ratings())]\n",
        "r = [r[2] for r in list(trainset.all_ratings())]\n",
        "matrix = csr_matrix((r, (u, b)), shape = (trainset.n_users, trainset.n_items))\n",
        "\n",
        "mf = MF(matrix, K=2, alpha=0.1, beta=0.01, iterations=20, samples=list(trainset.all_ratings()))\n",
        "mf.train()"
      ]
    },
    {
      "cell_type": "code",
      "execution_count": null,
      "metadata": {
        "colab": {
          "base_uri": "https://localhost:8080/"
        },
        "id": "Yb0Gq400YpRr",
        "outputId": "666cc7f1-f7e7-41b2-a60f-096885a0d2e6"
      },
      "outputs": [
        {
          "name": "stdout",
          "output_type": "stream",
          "text": [
            "RMSE: 1.0094036527544967\n"
          ]
        }
      ],
      "source": [
        "error = 0\n",
        "n = 0\n",
        "for r in testset:\n",
        "  try:\n",
        "    uid = trainset.to_inner_uid(r[0])\n",
        "    iid = trainset.to_inner_iid(r[1])\n",
        "    prediction = mf.get_rating(uid, iid)\n",
        "    error += pow(r[2] - prediction, 2)\n",
        "    n += 1\n",
        "  except:\n",
        "    pass\n",
        "print('RMSE:',(error / n) ** 0.5)"
      ]
    },
    {
      "cell_type": "markdown",
      "metadata": {
        "id": "v-NGZ7u846t8"
      },
      "source": [
        "RMSE may vary due to sampling; it is often around 1."
      ]
    }
  ],
  "metadata": {
    "colab": {
      "collapsed_sections": [],
      "provenance": []
    },
    "kernelspec": {
      "display_name": "Python 3.7.4 ('base')",
      "language": "python",
      "name": "python3"
    },
    "language_info": {
      "name": "python",
      "version": "3.7.4"
    },
    "vscode": {
      "interpreter": {
        "hash": "cc8ec5a4a564fb5001075d1b69bd0fab6e4c7967725783b97451713cbf5ce9b7"
      }
    }
  },
  "nbformat": 4,
  "nbformat_minor": 0
}
